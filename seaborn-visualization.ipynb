{
 "cells": [
  {
   "cell_type": "markdown",
   "id": "c76c20f0",
   "metadata": {
    "papermill": {
     "duration": 0.006691,
     "end_time": "2022-10-27T16:36:48.988397",
     "exception": false,
     "start_time": "2022-10-27T16:36:48.981706",
     "status": "completed"
    },
    "tags": []
   },
   "source": [
    "# Introduction\n",
    "1. Read datas\n",
    "1. Poverty rate of each state\n",
    "1. Most common 15 Name or Surname of killed people\n",
    "1. High school gradiuation rate of population that is older than 25 in states\n",
    "1. Percentage of state's population according to races that are black, white, native american, asian and hispanic\n",
    "1. High school graduation rate vs poverty rate of each state\n",
    "1. Kill properties\n",
    "    * Manner of death\n",
    "    * Kill weapon\n",
    "    * Age of killed people\n",
    "    * Race of killed people\n",
    "    * Most dangerous states\n",
    "    * Having mental illness or not for killed people\n",
    "    * Threat types\n",
    "    * Flee types\n",
    "    * Having body cameras or not for police\n",
    "1. Race rates according to states in kill data\n",
    "1. Kill numbers from states in kill data\n",
    "\n",
    "    Plot Contents:\n",
    "  1. Bar Plot\n",
    "  1. Point Plot\n",
    "  1. Joint Plot\n",
    "  1. Count Plot\n",
    "  1. Pie Chart\n",
    "  1. Lm Plot\n",
    "  1. Kde Plot\n",
    "  1. Box Plot\n",
    "  1. Swarm Plot\n",
    "  1. Pair Plot"
   ]
  },
  {
   "cell_type": "code",
   "execution_count": 1,
   "id": "88b462b1",
   "metadata": {
    "_cell_guid": "b1076dfc-b9ad-4769-8c92-a6c4dae69d19",
    "_uuid": "8f2839f25d086af736a60e9eeb907d3b93b6e0e5",
    "execution": {
     "iopub.execute_input": "2022-10-27T16:36:49.000060Z",
     "iopub.status.busy": "2022-10-27T16:36:48.999575Z",
     "iopub.status.idle": "2022-10-27T16:36:50.272898Z",
     "shell.execute_reply": "2022-10-27T16:36:50.271390Z"
    },
    "papermill": {
     "duration": 1.283283,
     "end_time": "2022-10-27T16:36:50.276728",
     "exception": false,
     "start_time": "2022-10-27T16:36:48.993445",
     "status": "completed"
    },
    "tags": []
   },
   "outputs": [
    {
     "name": "stdout",
     "output_type": "stream",
     "text": [
      "/kaggle/input/fatal-police-shootings-in-the-us/PercentagePeopleBelowPovertyLevel.csv\n",
      "/kaggle/input/fatal-police-shootings-in-the-us/PoliceKillingsUS.csv\n",
      "/kaggle/input/fatal-police-shootings-in-the-us/MedianHouseholdIncome2015.csv\n",
      "/kaggle/input/fatal-police-shootings-in-the-us/PercentOver25CompletedHighSchool.csv\n",
      "/kaggle/input/fatal-police-shootings-in-the-us/ShareRaceByCity.csv\n"
     ]
    }
   ],
   "source": [
    "# This Python 3 environment comes with many helpful analytics libraries installed\n",
    "# It is defined by the kaggle/python Docker image: https://github.com/kaggle/docker-python\n",
    "# For example, here's several helpful packages to load\n",
    "\n",
    "import numpy as np # linear algebra\n",
    "import pandas as pd # data processing, CSV file I/O (e.g. pd.read_csv)\n",
    "import seaborn as sns\n",
    "import matplotlib.pyplot as plt\n",
    "from collections import Counter\n",
    "\n",
    "# Input data files are available in the read-only \"../input/\" directory\n",
    "# For example, running this (by clicking run or pressing Shift+Enter) will list all files under the input directory\n",
    "\n",
    "import os\n",
    "for dirname, _, filenames in os.walk('/kaggle/input'):\n",
    "    for filename in filenames:\n",
    "        print(os.path.join(dirname, filename))\n",
    "\n",
    "# You can write up to 20GB to the current directory (/kaggle/working/) that gets preserved as output when you create a version using \"Save & Run All\" \n",
    "# You can also write temporary files to /kaggle/temp/, but they won't be saved outside of the current session"
   ]
  },
  {
   "cell_type": "code",
   "execution_count": 2,
   "id": "48d556d9",
   "metadata": {
    "execution": {
     "iopub.execute_input": "2022-10-27T16:36:50.290036Z",
     "iopub.status.busy": "2022-10-27T16:36:50.289566Z",
     "iopub.status.idle": "2022-10-27T16:36:50.584890Z",
     "shell.execute_reply": "2022-10-27T16:36:50.583904Z"
    },
    "papermill": {
     "duration": 0.304714,
     "end_time": "2022-10-27T16:36:50.587608",
     "exception": false,
     "start_time": "2022-10-27T16:36:50.282894",
     "status": "completed"
    },
    "tags": []
   },
   "outputs": [],
   "source": [
    "# Read datas\n",
    "median_house_hold_in_come = pd.read_csv('../input/fatal-police-shootings-in-the-us/MedianHouseholdIncome2015.csv', encoding = \"windows-1252\")\n",
    "percentage_people_below_poverty_level = pd.read_csv('../input/fatal-police-shootings-in-the-us/PercentagePeopleBelowPovertyLevel.csv', encoding = \"windows-1252\")\n",
    "percent_over_25_completed_highSchool = pd.read_csv('../input/fatal-police-shootings-in-the-us/PercentOver25CompletedHighSchool.csv',encoding = \"windows-1252\")\n",
    "share_race_city = pd.read_csv('../input/fatal-police-shootings-in-the-us/ShareRaceByCity.csv', encoding = \"windows-1252\")\n",
    "kill = pd.read_csv('../input/fatal-police-shootings-in-the-us/PoliceKillingsUS.csv', encoding = \"windows-1252\")"
   ]
  },
  {
   "cell_type": "code",
   "execution_count": 3,
   "id": "6d0b2ecd",
   "metadata": {
    "execution": {
     "iopub.execute_input": "2022-10-27T16:36:50.601044Z",
     "iopub.status.busy": "2022-10-27T16:36:50.599784Z",
     "iopub.status.idle": "2022-10-27T16:36:50.623567Z",
     "shell.execute_reply": "2022-10-27T16:36:50.622398Z"
    },
    "papermill": {
     "duration": 0.033427,
     "end_time": "2022-10-27T16:36:50.626463",
     "exception": false,
     "start_time": "2022-10-27T16:36:50.593036",
     "status": "completed"
    },
    "tags": []
   },
   "outputs": [
    {
     "data": {
      "text/html": [
       "<div>\n",
       "<style scoped>\n",
       "    .dataframe tbody tr th:only-of-type {\n",
       "        vertical-align: middle;\n",
       "    }\n",
       "\n",
       "    .dataframe tbody tr th {\n",
       "        vertical-align: top;\n",
       "    }\n",
       "\n",
       "    .dataframe thead th {\n",
       "        text-align: right;\n",
       "    }\n",
       "</style>\n",
       "<table border=\"1\" class=\"dataframe\">\n",
       "  <thead>\n",
       "    <tr style=\"text-align: right;\">\n",
       "      <th></th>\n",
       "      <th>Geographic Area</th>\n",
       "      <th>City</th>\n",
       "      <th>poverty_rate</th>\n",
       "    </tr>\n",
       "  </thead>\n",
       "  <tbody>\n",
       "    <tr>\n",
       "      <th>0</th>\n",
       "      <td>AL</td>\n",
       "      <td>Abanda CDP</td>\n",
       "      <td>78.8</td>\n",
       "    </tr>\n",
       "    <tr>\n",
       "      <th>1</th>\n",
       "      <td>AL</td>\n",
       "      <td>Abbeville city</td>\n",
       "      <td>29.1</td>\n",
       "    </tr>\n",
       "    <tr>\n",
       "      <th>2</th>\n",
       "      <td>AL</td>\n",
       "      <td>Adamsville city</td>\n",
       "      <td>25.5</td>\n",
       "    </tr>\n",
       "    <tr>\n",
       "      <th>3</th>\n",
       "      <td>AL</td>\n",
       "      <td>Addison town</td>\n",
       "      <td>30.7</td>\n",
       "    </tr>\n",
       "    <tr>\n",
       "      <th>4</th>\n",
       "      <td>AL</td>\n",
       "      <td>Akron town</td>\n",
       "      <td>42</td>\n",
       "    </tr>\n",
       "  </tbody>\n",
       "</table>\n",
       "</div>"
      ],
      "text/plain": [
       "  Geographic Area             City poverty_rate\n",
       "0              AL       Abanda CDP         78.8\n",
       "1              AL   Abbeville city         29.1\n",
       "2              AL  Adamsville city         25.5\n",
       "3              AL     Addison town         30.7\n",
       "4              AL       Akron town           42"
      ]
     },
     "execution_count": 3,
     "metadata": {},
     "output_type": "execute_result"
    }
   ],
   "source": [
    "percentage_people_below_poverty_level.head()"
   ]
  },
  {
   "cell_type": "code",
   "execution_count": 4,
   "id": "b3ce065f",
   "metadata": {
    "execution": {
     "iopub.execute_input": "2022-10-27T16:36:50.639672Z",
     "iopub.status.busy": "2022-10-27T16:36:50.639259Z",
     "iopub.status.idle": "2022-10-27T16:36:50.672832Z",
     "shell.execute_reply": "2022-10-27T16:36:50.671231Z"
    },
    "papermill": {
     "duration": 0.044523,
     "end_time": "2022-10-27T16:36:50.676647",
     "exception": false,
     "start_time": "2022-10-27T16:36:50.632124",
     "status": "completed"
    },
    "tags": []
   },
   "outputs": [
    {
     "name": "stdout",
     "output_type": "stream",
     "text": [
      "<class 'pandas.core.frame.DataFrame'>\n",
      "RangeIndex: 29329 entries, 0 to 29328\n",
      "Data columns (total 3 columns):\n",
      " #   Column           Non-Null Count  Dtype \n",
      "---  ------           --------------  ----- \n",
      " 0   Geographic Area  29329 non-null  object\n",
      " 1   City             29329 non-null  object\n",
      " 2   poverty_rate     29329 non-null  object\n",
      "dtypes: object(3)\n",
      "memory usage: 687.5+ KB\n"
     ]
    }
   ],
   "source": [
    "percentage_people_below_poverty_level.info()"
   ]
  },
  {
   "cell_type": "code",
   "execution_count": 5,
   "id": "29f33465",
   "metadata": {
    "execution": {
     "iopub.execute_input": "2022-10-27T16:36:50.689915Z",
     "iopub.status.busy": "2022-10-27T16:36:50.689461Z",
     "iopub.status.idle": "2022-10-27T16:36:50.701133Z",
     "shell.execute_reply": "2022-10-27T16:36:50.699761Z"
    },
    "papermill": {
     "duration": 0.021547,
     "end_time": "2022-10-27T16:36:50.704264",
     "exception": false,
     "start_time": "2022-10-27T16:36:50.682717",
     "status": "completed"
    },
    "tags": []
   },
   "outputs": [
    {
     "data": {
      "text/plain": [
       "0       1464\n",
       "-        201\n",
       "7.4      129\n",
       "6.7      129\n",
       "10.9     128\n",
       "        ... \n",
       "73.5       1\n",
       "92         1\n",
       "73.8       1\n",
       "55.9       1\n",
       "83.6       1\n",
       "Name: poverty_rate, Length: 771, dtype: int64"
      ]
     },
     "execution_count": 5,
     "metadata": {},
     "output_type": "execute_result"
    }
   ],
   "source": [
    "percentage_people_below_poverty_level.poverty_rate.value_counts()"
   ]
  },
  {
   "cell_type": "code",
   "execution_count": 6,
   "id": "dbcc0dd0",
   "metadata": {
    "execution": {
     "iopub.execute_input": "2022-10-27T16:36:50.716944Z",
     "iopub.status.busy": "2022-10-27T16:36:50.716482Z",
     "iopub.status.idle": "2022-10-27T16:36:50.727546Z",
     "shell.execute_reply": "2022-10-27T16:36:50.726165Z"
    },
    "papermill": {
     "duration": 0.020898,
     "end_time": "2022-10-27T16:36:50.730560",
     "exception": false,
     "start_time": "2022-10-27T16:36:50.709662",
     "status": "completed"
    },
    "tags": []
   },
   "outputs": [
    {
     "data": {
      "text/plain": [
       "array(['AL', 'AK', 'AZ', 'AR', 'CA', 'CO', 'CT', 'DE', 'DC', 'FL', 'GA',\n",
       "       'HI', 'ID', 'IL', 'IN', 'IA', 'KS', 'KY', 'LA', 'ME', 'MD', 'MA',\n",
       "       'MI', 'MN', 'MS', 'MO', 'MT', 'NE', 'NV', 'NH', 'NJ', 'NM', 'NY',\n",
       "       'NC', 'ND', 'OH', 'OK', 'OR', 'PA', 'RI', 'SC', 'SD', 'TN', 'TX',\n",
       "       'UT', 'VT', 'VA', 'WA', 'WV', 'WI', 'WY'], dtype=object)"
      ]
     },
     "execution_count": 6,
     "metadata": {},
     "output_type": "execute_result"
    }
   ],
   "source": [
    "percentage_people_below_poverty_level['Geographic Area'].unique()"
   ]
  },
  {
   "cell_type": "markdown",
   "id": "849a7463",
   "metadata": {
    "papermill": {
     "duration": 0.004989,
     "end_time": "2022-10-27T16:36:50.741113",
     "exception": false,
     "start_time": "2022-10-27T16:36:50.736124",
     "status": "completed"
    },
    "tags": []
   },
   "source": [
    "## Bar Plot"
   ]
  },
  {
   "cell_type": "code",
   "execution_count": 7,
   "id": "fc449e2e",
   "metadata": {
    "execution": {
     "iopub.execute_input": "2022-10-27T16:36:50.754235Z",
     "iopub.status.busy": "2022-10-27T16:36:50.753777Z",
     "iopub.status.idle": "2022-10-27T16:36:51.657547Z",
     "shell.execute_reply": "2022-10-27T16:36:51.656186Z"
    },
    "papermill": {
     "duration": 0.913905,
     "end_time": "2022-10-27T16:36:51.660510",
     "exception": false,
     "start_time": "2022-10-27T16:36:50.746605",
     "status": "completed"
    },
    "tags": []
   },
   "outputs": [
    {
     "data": {
      "image/png": "[encoded data removed]",
      "text/plain": [
       "<Figure size 1080x720 with 1 Axes>"
      ]
     },
     "metadata": {
      "needs_background": "light"
     },
     "output_type": "display_data"
    }
   ],
   "source": [
    "percentage_people_below_poverty_level.poverty_rate.replace(['-'],0.0,inplace = True)\n",
    "percentage_people_below_poverty_level.poverty_rate = percentage_people_below_poverty_level.poverty_rate.astype(float)\n",
    "area_list = list(percentage_people_below_poverty_level['Geographic Area'].unique())\n",
    "area_poverty_ratio = []\n",
    "for i in area_list:\n",
    "    x = percentage_people_below_poverty_level[percentage_people_below_poverty_level['Geographic Area'] == i]\n",
    "    area_poverty_rate = sum(x.poverty_rate)/len(x)\n",
    "    area_poverty_ratio.append(area_poverty_rate)\n",
    "data = pd.DataFrame({'area_list': area_list, 'area_poverty_ratio': area_poverty_ratio})\n",
    "new_index = (data['area_poverty_ratio'].sort_values(ascending = False)).index.values\n",
    "sorted_data = data.reindex(new_index)\n",
    "\n",
    "# visualization\n",
    "plt.figure(figsize = (15, 10))\n",
    "sns.barplot(x = sorted_data['area_list'], y = sorted_data['area_poverty_ratio'])\n",
    "plt.xticks(rotation = 45)\n",
    "plt.xlabel('States')\n",
    "plt.ylabel('Poverty Rate')\n",
    "plt.title('Poverty Rate Given States')\n",
    "plt.show()"
   ]
  },
  {
   "cell_type": "code",
   "execution_count": 8,
   "id": "8882ed91",
   "metadata": {
    "execution": {
     "iopub.execute_input": "2022-10-27T16:36:51.675282Z",
     "iopub.status.busy": "2022-10-27T16:36:51.674736Z",
     "iopub.status.idle": "2022-10-27T16:36:51.697138Z",
     "shell.execute_reply": "2022-10-27T16:36:51.695770Z"
    },
    "papermill": {
     "duration": 0.033231,
     "end_time": "2022-10-27T16:36:51.699712",
     "exception": false,
     "start_time": "2022-10-27T16:36:51.666481",
     "status": "completed"
    },
    "tags": []
   },
   "outputs": [
    {
     "data": {
      "text/html": [
       "<div>\n",
       "<style scoped>\n",
       "    .dataframe tbody tr th:only-of-type {\n",
       "        vertical-align: middle;\n",
       "    }\n",
       "\n",
       "    .dataframe tbody tr th {\n",
       "        vertical-align: top;\n",
       "    }\n",
       "\n",
       "    .dataframe thead th {\n",
       "        text-align: right;\n",
       "    }\n",
       "</style>\n",
       "<table border=\"1\" class=\"dataframe\">\n",
       "  <thead>\n",
       "    <tr style=\"text-align: right;\">\n",
       "      <th></th>\n",
       "      <th>id</th>\n",
       "      <th>name</th>\n",
       "      <th>date</th>\n",
       "      <th>manner_of_death</th>\n",
       "      <th>armed</th>\n",
       "      <th>age</th>\n",
       "      <th>gender</th>\n",
       "      <th>race</th>\n",
       "      <th>city</th>\n",
       "      <th>state</th>\n",
       "      <th>signs_of_mental_illness</th>\n",
       "      <th>threat_level</th>\n",
       "      <th>flee</th>\n",
       "      <th>body_camera</th>\n",
       "    </tr>\n",
       "  </thead>\n",
       "  <tbody>\n",
       "    <tr>\n",
       "      <th>0</th>\n",
       "      <td>3</td>\n",
       "      <td>Tim Elliot</td>\n",
       "      <td>02/01/15</td>\n",
       "      <td>shot</td>\n",
       "      <td>gun</td>\n",
       "      <td>53.0</td>\n",
       "      <td>M</td>\n",
       "      <td>A</td>\n",
       "      <td>Shelton</td>\n",
       "      <td>WA</td>\n",
       "      <td>True</td>\n",
       "      <td>attack</td>\n",
       "      <td>Not fleeing</td>\n",
       "      <td>False</td>\n",
       "    </tr>\n",
       "    <tr>\n",
       "      <th>1</th>\n",
       "      <td>4</td>\n",
       "      <td>Lewis Lee Lembke</td>\n",
       "      <td>02/01/15</td>\n",
       "      <td>shot</td>\n",
       "      <td>gun</td>\n",
       "      <td>47.0</td>\n",
       "      <td>M</td>\n",
       "      <td>W</td>\n",
       "      <td>Aloha</td>\n",
       "      <td>OR</td>\n",
       "      <td>False</td>\n",
       "      <td>attack</td>\n",
       "      <td>Not fleeing</td>\n",
       "      <td>False</td>\n",
       "    </tr>\n",
       "    <tr>\n",
       "      <th>2</th>\n",
       "      <td>5</td>\n",
       "      <td>John Paul Quintero</td>\n",
       "      <td>03/01/15</td>\n",
       "      <td>shot and Tasered</td>\n",
       "      <td>unarmed</td>\n",
       "      <td>23.0</td>\n",
       "      <td>M</td>\n",
       "      <td>H</td>\n",
       "      <td>Wichita</td>\n",
       "      <td>KS</td>\n",
       "      <td>False</td>\n",
       "      <td>other</td>\n",
       "      <td>Not fleeing</td>\n",
       "      <td>False</td>\n",
       "    </tr>\n",
       "    <tr>\n",
       "      <th>3</th>\n",
       "      <td>8</td>\n",
       "      <td>Matthew Hoffman</td>\n",
       "      <td>04/01/15</td>\n",
       "      <td>shot</td>\n",
       "      <td>toy weapon</td>\n",
       "      <td>32.0</td>\n",
       "      <td>M</td>\n",
       "      <td>W</td>\n",
       "      <td>San Francisco</td>\n",
       "      <td>CA</td>\n",
       "      <td>True</td>\n",
       "      <td>attack</td>\n",
       "      <td>Not fleeing</td>\n",
       "      <td>False</td>\n",
       "    </tr>\n",
       "    <tr>\n",
       "      <th>4</th>\n",
       "      <td>9</td>\n",
       "      <td>Michael Rodriguez</td>\n",
       "      <td>04/01/15</td>\n",
       "      <td>shot</td>\n",
       "      <td>nail gun</td>\n",
       "      <td>39.0</td>\n",
       "      <td>M</td>\n",
       "      <td>H</td>\n",
       "      <td>Evans</td>\n",
       "      <td>CO</td>\n",
       "      <td>False</td>\n",
       "      <td>attack</td>\n",
       "      <td>Not fleeing</td>\n",
       "      <td>False</td>\n",
       "    </tr>\n",
       "  </tbody>\n",
       "</table>\n",
       "</div>"
      ],
      "text/plain": [
       "   id                name      date   manner_of_death       armed   age  \\\n",
       "0   3          Tim Elliot  02/01/15              shot         gun  53.0   \n",
       "1   4    Lewis Lee Lembke  02/01/15              shot         gun  47.0   \n",
       "2   5  John Paul Quintero  03/01/15  shot and Tasered     unarmed  23.0   \n",
       "3   8     Matthew Hoffman  04/01/15              shot  toy weapon  32.0   \n",
       "4   9   Michael Rodriguez  04/01/15              shot    nail gun  39.0   \n",
       "\n",
       "  gender race           city state  signs_of_mental_illness threat_level  \\\n",
       "0      M    A        Shelton    WA                     True       attack   \n",
       "1      M    W          Aloha    OR                    False       attack   \n",
       "2      M    H        Wichita    KS                    False        other   \n",
       "3      M    W  San Francisco    CA                     True       attack   \n",
       "4      M    H          Evans    CO                    False       attack   \n",
       "\n",
       "          flee  body_camera  \n",
       "0  Not fleeing        False  \n",
       "1  Not fleeing        False  \n",
       "2  Not fleeing        False  \n",
       "3  Not fleeing        False  \n",
       "4  Not fleeing        False  "
      ]
     },
     "execution_count": 8,
     "metadata": {},
     "output_type": "execute_result"
    }
   ],
   "source": [
    "kill.head()"
   ]
  },
  {
   "cell_type": "code",
   "execution_count": 9,
   "id": "fd5d1f0f",
   "metadata": {
    "execution": {
     "iopub.execute_input": "2022-10-27T16:36:51.713880Z",
     "iopub.status.busy": "2022-10-27T16:36:51.713449Z",
     "iopub.status.idle": "2022-10-27T16:36:51.727023Z",
     "shell.execute_reply": "2022-10-27T16:36:51.725937Z"
    },
    "papermill": {
     "duration": 0.023726,
     "end_time": "2022-10-27T16:36:51.729648",
     "exception": false,
     "start_time": "2022-10-27T16:36:51.705922",
     "status": "completed"
    },
    "tags": []
   },
   "outputs": [
    {
     "data": {
      "text/plain": [
       "TK TK              49\n",
       "Michael Johnson     2\n",
       "Brandon Jones       2\n",
       "Eric Harris         2\n",
       "Michael Brown       2\n",
       "                   ..\n",
       "Jack Yantis         1\n",
       "James Covington     1\n",
       "Jeremy Mardis       1\n",
       "Joseph Tyndall      1\n",
       "Dwayne Jeune        1\n",
       "Name: name, Length: 2481, dtype: int64"
      ]
     },
     "execution_count": 9,
     "metadata": {},
     "output_type": "execute_result"
    }
   ],
   "source": [
    "kill.name.value_counts()"
   ]
  },
  {
   "cell_type": "code",
   "execution_count": 10,
   "id": "51b87607",
   "metadata": {
    "execution": {
     "iopub.execute_input": "2022-10-27T16:36:51.744501Z",
     "iopub.status.busy": "2022-10-27T16:36:51.743880Z",
     "iopub.status.idle": "2022-10-27T16:36:52.003612Z",
     "shell.execute_reply": "2022-10-27T16:36:52.002437Z"
    },
    "papermill": {
     "duration": 0.270177,
     "end_time": "2022-10-27T16:36:52.006156",
     "exception": false,
     "start_time": "2022-10-27T16:36:51.735979",
     "status": "completed"
    },
    "tags": []
   },
   "outputs": [
    {
     "data": {
      "image/png": "[encoded data removed]",
      "text/plain": [
       "<Figure size 1080x720 with 1 Axes>"
      ]
     },
     "metadata": {
      "needs_background": "light"
     },
     "output_type": "display_data"
    }
   ],
   "source": [
    "# Most common 15 name or surname of killed people\n",
    "separate = kill.name[kill.name != 'TK TK'].str.split()\n",
    "a, b = zip(*separate)\n",
    "name_list = a + b\n",
    "name_count = Counter(name_list)\n",
    "most_common_names = name_count.most_common(15)\n",
    "x,y = zip(*most_common_names)\n",
    "x, y = list(x), list(y)\n",
    "\n",
    "# visualization\n",
    "plt.figure(figsize = (15,10))\n",
    "sns.barplot(x = x, y = y, palette = sns.cubehelix_palette(len(x)))\n",
    "plt.xlabel('Name or surname of killed people')\n",
    "plt.ylabel('Frequency')\n",
    "plt.title('Most common 15 name or surname of killed people')\n",
    "plt.show()"
   ]
  },
  {
   "cell_type": "code",
   "execution_count": 11,
   "id": "3924218a",
   "metadata": {
    "execution": {
     "iopub.execute_input": "2022-10-27T16:36:52.021900Z",
     "iopub.status.busy": "2022-10-27T16:36:52.021220Z",
     "iopub.status.idle": "2022-10-27T16:36:52.032313Z",
     "shell.execute_reply": "2022-10-27T16:36:52.031012Z"
    },
    "papermill": {
     "duration": 0.022275,
     "end_time": "2022-10-27T16:36:52.035265",
     "exception": false,
     "start_time": "2022-10-27T16:36:52.012990",
     "status": "completed"
    },
    "tags": []
   },
   "outputs": [
    {
     "data": {
      "text/html": [
       "<div>\n",
       "<style scoped>\n",
       "    .dataframe tbody tr th:only-of-type {\n",
       "        vertical-align: middle;\n",
       "    }\n",
       "\n",
       "    .dataframe tbody tr th {\n",
       "        vertical-align: top;\n",
       "    }\n",
       "\n",
       "    .dataframe thead th {\n",
       "        text-align: right;\n",
       "    }\n",
       "</style>\n",
       "<table border=\"1\" class=\"dataframe\">\n",
       "  <thead>\n",
       "    <tr style=\"text-align: right;\">\n",
       "      <th></th>\n",
       "      <th>Geographic Area</th>\n",
       "      <th>City</th>\n",
       "      <th>percent_completed_hs</th>\n",
       "    </tr>\n",
       "  </thead>\n",
       "  <tbody>\n",
       "    <tr>\n",
       "      <th>0</th>\n",
       "      <td>AL</td>\n",
       "      <td>Abanda CDP</td>\n",
       "      <td>21.2</td>\n",
       "    </tr>\n",
       "    <tr>\n",
       "      <th>1</th>\n",
       "      <td>AL</td>\n",
       "      <td>Abbeville city</td>\n",
       "      <td>69.1</td>\n",
       "    </tr>\n",
       "    <tr>\n",
       "      <th>2</th>\n",
       "      <td>AL</td>\n",
       "      <td>Adamsville city</td>\n",
       "      <td>78.9</td>\n",
       "    </tr>\n",
       "    <tr>\n",
       "      <th>3</th>\n",
       "      <td>AL</td>\n",
       "      <td>Addison town</td>\n",
       "      <td>81.4</td>\n",
       "    </tr>\n",
       "    <tr>\n",
       "      <th>4</th>\n",
       "      <td>AL</td>\n",
       "      <td>Akron town</td>\n",
       "      <td>68.6</td>\n",
       "    </tr>\n",
       "  </tbody>\n",
       "</table>\n",
       "</div>"
      ],
      "text/plain": [
       "  Geographic Area             City percent_completed_hs\n",
       "0              AL       Abanda CDP                 21.2\n",
       "1              AL   Abbeville city                 69.1\n",
       "2              AL  Adamsville city                 78.9\n",
       "3              AL     Addison town                 81.4\n",
       "4              AL       Akron town                 68.6"
      ]
     },
     "execution_count": 11,
     "metadata": {},
     "output_type": "execute_result"
    }
   ],
   "source": [
    "percent_over_25_completed_highSchool.head()"
   ]
  },
  {
   "cell_type": "code",
   "execution_count": 12,
   "id": "ed63a005",
   "metadata": {
    "execution": {
     "iopub.execute_input": "2022-10-27T16:36:52.051291Z",
     "iopub.status.busy": "2022-10-27T16:36:52.050884Z",
     "iopub.status.idle": "2022-10-27T16:36:52.065592Z",
     "shell.execute_reply": "2022-10-27T16:36:52.064086Z"
    },
    "papermill": {
     "duration": 0.026055,
     "end_time": "2022-10-27T16:36:52.068396",
     "exception": false,
     "start_time": "2022-10-27T16:36:52.042341",
     "status": "completed"
    },
    "tags": []
   },
   "outputs": [
    {
     "data": {
      "text/plain": [
       "100     1301\n",
       "-        197\n",
       "91.7     170\n",
       "92.9     169\n",
       "92.5     168\n",
       "        ... \n",
       "39.3       1\n",
       "20.1       1\n",
       "27.2       1\n",
       "36.8       1\n",
       "43.9       1\n",
       "Name: percent_completed_hs, Length: 728, dtype: int64"
      ]
     },
     "execution_count": 12,
     "metadata": {},
     "output_type": "execute_result"
    }
   ],
   "source": [
    "percent_over_25_completed_highSchool.percent_completed_hs.value_counts()"
   ]
  },
  {
   "cell_type": "code",
   "execution_count": 13,
   "id": "faf92bed",
   "metadata": {
    "execution": {
     "iopub.execute_input": "2022-10-27T16:36:52.085496Z",
     "iopub.status.busy": "2022-10-27T16:36:52.084435Z",
     "iopub.status.idle": "2022-10-27T16:36:52.102307Z",
     "shell.execute_reply": "2022-10-27T16:36:52.101350Z"
    },
    "papermill": {
     "duration": 0.029654,
     "end_time": "2022-10-27T16:36:52.105921",
     "exception": false,
     "start_time": "2022-10-27T16:36:52.076267",
     "status": "completed"
    },
    "tags": []
   },
   "outputs": [
    {
     "name": "stdout",
     "output_type": "stream",
     "text": [
      "<class 'pandas.core.frame.DataFrame'>\n",
      "RangeIndex: 29329 entries, 0 to 29328\n",
      "Data columns (total 3 columns):\n",
      " #   Column                Non-Null Count  Dtype \n",
      "---  ------                --------------  ----- \n",
      " 0   Geographic Area       29329 non-null  object\n",
      " 1   City                  29329 non-null  object\n",
      " 2   percent_completed_hs  29329 non-null  object\n",
      "dtypes: object(3)\n",
      "memory usage: 687.5+ KB\n"
     ]
    }
   ],
   "source": [
    "percent_over_25_completed_highSchool.info()"
   ]
  },
  {
   "cell_type": "code",
   "execution_count": 14,
   "id": "8f4195c9",
   "metadata": {
    "execution": {
     "iopub.execute_input": "2022-10-27T16:36:52.124137Z",
     "iopub.status.busy": "2022-10-27T16:36:52.123454Z",
     "iopub.status.idle": "2022-10-27T16:36:52.983393Z",
     "shell.execute_reply": "2022-10-27T16:36:52.982187Z"
    },
    "papermill": {
     "duration": 0.870935,
     "end_time": "2022-10-27T16:36:52.986036",
     "exception": false,
     "start_time": "2022-10-27T16:36:52.115101",
     "status": "completed"
    },
    "tags": []
   },
   "outputs": [
    {
     "data": {
      "image/png": "[encoded data removed]",
      "text/plain": [
       "<Figure size 1080x720 with 1 Axes>"
      ]
     },
     "metadata": {
      "needs_background": "light"
     },
     "output_type": "display_data"
    }
   ],
   "source": [
    "# High school graduation rate of the population that is older than 25 in states\n",
    "percent_over_25_completed_highSchool.percent_completed_hs.replace(['-'], 0.0, inplace = True)\n",
    "percent_over_25_completed_highSchool.percent_completed_hs = percent_over_25_completed_highSchool.percent_completed_hs.astype(float)\n",
    "area_list = list(percent_over_25_completed_highSchool['Geographic Area'].unique())\n",
    "area_highschool = []\n",
    "for i in area_list:\n",
    "    x = percent_over_25_completed_highSchool[percent_over_25_completed_highSchool['Geographic Area'] == i]\n",
    "    area_highschool_rate = sum(x.percent_completed_hs)/len(x)\n",
    "    area_highschool.append(area_highschool_rate)\n",
    "\n",
    "# sorting\n",
    "data = pd.DataFrame({'area_list': area_list, 'area_highschool_ratio': area_highschool})\n",
    "new_index = (data['area_highschool_ratio'].sort_values(ascending = True)).index.values\n",
    "sorted_data2 = data.reindex(new_index)\n",
    "\n",
    "#visualization\n",
    "plt.figure(figsize=(15,10))\n",
    "sns.barplot(x = sorted_data2['area_list'], y = sorted_data2['area_highschool_ratio'])\n",
    "plt.xticks(rotation = 90)\n",
    "plt.xlabel('States')\n",
    "plt.ylabel('High School Graduate Rate')\n",
    "plt.title(\"Percentage of Given States Population Above 25 That Has Graduated High School\")\n",
    "plt.show()"
   ]
  },
  {
   "cell_type": "code",
   "execution_count": null,
   "id": "2600fa8f",
   "metadata": {
    "papermill": {
     "duration": 0.007355,
     "end_time": "2022-10-27T16:36:53.001160",
     "exception": false,
     "start_time": "2022-10-27T16:36:52.993805",
     "status": "completed"
    },
    "tags": []
   },
   "outputs": [],
   "source": []
  }
 ],
 "metadata": {
  "kernelspec": {
   "display_name": "Python 3",
   "language": "python",
   "name": "python3"
  },
  "language_info": {
   "codemirror_mode": {
    "name": "ipython",
    "version": 3
   },
   "file_extension": ".py",
   "mimetype": "text/x-python",
   "name": "python",
   "nbconvert_exporter": "python",
   "pygments_lexer": "ipython3",
   "version": "3.7.12"
  },
  "papermill": {
   "default_parameters": {},
   "duration": 14.395305,
   "end_time": "2022-10-27T16:36:53.833495",
   "environment_variables": {},
   "exception": null,
   "input_path": "__notebook__.ipynb",
   "output_path": "__notebook__.ipynb",
   "parameters": {},
   "start_time": "2022-10-27T16:36:39.438190",
   "version": "2.3.4"
  }
 },
 "nbformat": 4,
 "nbformat_minor": 5
}
